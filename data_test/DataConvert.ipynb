{
 "cells": [
  {
   "cell_type": "markdown",
   "id": "1c9b1110-80c3-432f-adcf-c16e65458ce3",
   "metadata": {},
   "source": [
    "# Conversion of Height data from LIDAR LAS file\n",
    "\n",
    "Romain Beucher, July 2024"
   ]
  },
  {
   "cell_type": "code",
   "execution_count": 1,
   "id": "8db46ede-5608-49bc-893f-0c546b61ab57",
   "metadata": {},
   "outputs": [],
   "source": [
    "import laspy"
   ]
  },
  {
   "cell_type": "markdown",
   "id": "0298b3c3-a7b3-49c8-af61-8a7e1d4aa10d",
   "metadata": {},
   "source": [
    "## Explore data from the lasfile"
   ]
  },
  {
   "cell_type": "code",
   "execution_count": 2,
   "id": "6ecfe141-10a5-4960-9156-c3c21c8a642b",
   "metadata": {},
   "outputs": [],
   "source": [
    "las_file_path = \"Aramac_ell/SW_316000_7461000_1k_class_Ellipsoid.las\""
   ]
  },
  {
   "cell_type": "code",
   "execution_count": 3,
   "id": "ec3fd9ef-502e-4cc1-955f-9ccdad24506a",
   "metadata": {},
   "outputs": [],
   "source": [
    "input_lasfile = laspy.open(las_file_path)\n",
    "points = input_lasfile.read()\n",
    "x_coords = points.x\n",
    "y_coords = points.y\n",
    "z_coords = points.z"
   ]
  },
  {
   "cell_type": "code",
   "execution_count": 4,
   "id": "0a898668-f140-4bc6-9fef-d591a3730182",
   "metadata": {},
   "outputs": [
    {
     "data": {
      "text/plain": [
       "(316000.0, 316999.999)"
      ]
     },
     "execution_count": 4,
     "metadata": {},
     "output_type": "execute_result"
    }
   ],
   "source": [
    "points.x.min(), points.x.max()"
   ]
  },
  {
   "cell_type": "code",
   "execution_count": 5,
   "id": "2b0442a9-d12f-41cf-8033-bc70e127c6d8",
   "metadata": {},
   "outputs": [
    {
     "data": {
      "text/plain": [
       "(316000000, 316999999)"
      ]
     },
     "execution_count": 5,
     "metadata": {},
     "output_type": "execute_result"
    }
   ],
   "source": [
    "points.X.min(), points.X.max()"
   ]
  },
  {
   "cell_type": "code",
   "execution_count": 6,
   "id": "0bfa66a0-5cea-4b83-9dc6-2a59cb3fb4ed",
   "metadata": {},
   "outputs": [
    {
     "data": {
      "text/plain": [
       "(7461000.0, 7461999.999)"
      ]
     },
     "execution_count": 6,
     "metadata": {},
     "output_type": "execute_result"
    }
   ],
   "source": [
    "points.y.min(), points.y.max()"
   ]
  },
  {
   "cell_type": "code",
   "execution_count": 7,
   "id": "50a2d429-5585-4751-86a7-1bed1a2a289b",
   "metadata": {},
   "outputs": [
    {
     "data": {
      "text/plain": [
       "(461000000, 461999999)"
      ]
     },
     "execution_count": 7,
     "metadata": {},
     "output_type": "execute_result"
    }
   ],
   "source": [
    "points.Y.min(), points.Y.max()"
   ]
  },
  {
   "cell_type": "markdown",
   "id": "e0ea6186-6403-4ada-9a64-671acc3819b2",
   "metadata": {},
   "source": [
    "### Number of points"
   ]
  },
  {
   "cell_type": "code",
   "execution_count": 8,
   "id": "5a3f9786-7b13-4907-8b80-a0d5f232f873",
   "metadata": {},
   "outputs": [
    {
     "data": {
      "text/plain": [
       "11951102"
      ]
     },
     "execution_count": 8,
     "metadata": {},
     "output_type": "execute_result"
    }
   ],
   "source": [
    "len(points.x)"
   ]
  },
  {
   "cell_type": "markdown",
   "id": "373bfdbf-74bf-4f0d-b019-25ffb4f4e2c4",
   "metadata": {},
   "source": [
    "Here we can retrieve the authority"
   ]
  },
  {
   "cell_type": "code",
   "execution_count": 9,
   "id": "485d0732-6731-47ef-b31a-632533b86bbc",
   "metadata": {},
   "outputs": [
    {
     "name": "stdout",
     "output_type": "stream",
     "text": [
      "PROJCS[\"GDA2020 / GDA2020 / MGA 55S\",GEOGCS[\"GDA2020\",DATUM[\"Geocentric_Datum_of_Australia_2020\",SPHEROID[\"GRS 1980\",6378137,298.257222101,AUTHORITY[\"EPSG\",\"7019\"]],AUTHORITY[\"EPSG\",\"9844\"]],PRIMEM[\"Greenwich\",0,AUTHORITY[\"EPSG\",\"8901\"]],UNIT[\"degree\",0.01745329251994328,AUTHORITY[\"EPSG\",\"9122\"]],AUTHORITY[\"EPSG\",\"7844\"]],PROJECTION[\"Transverse_Mercator\"],PARAMETER[\"latitude_of_origin\",0],PARAMETER[\"central_meridian\",147],PARAMETER[\"scale_factor\",0.9996],PARAMETER[\"false_easting\",500000],PARAMETER[\"false_northing\",10000000],UNIT[\"metre\",1,AUTHORITY[\"EPSG\",\"9001\"]],AXIS[\"Easting\",EAST],AXIS[\"Northing\",NORTH],AUTHORITY[\"EPSG\",\"7855\"]]\n"
     ]
    }
   ],
   "source": [
    "projcs = input_lasfile.header.vlrs[1].parse_crs()\n",
    "print(projcs)"
   ]
  },
  {
   "cell_type": "code",
   "execution_count": 10,
   "id": "d64e3ee7-6546-4ff6-adc7-0067d93f33b9",
   "metadata": {},
   "outputs": [
    {
     "name": "stdout",
     "output_type": "stream",
     "text": [
      "7855\n"
     ]
    }
   ],
   "source": [
    "#!pip install pyproj\n",
    "projcs = input_lasfile.header.vlrs[1].parse_crs().to_authority()\n",
    "epsg_code = int(projcs[1])\n",
    "\n",
    "print(epsg_code)"
   ]
  },
  {
   "cell_type": "code",
   "execution_count": 11,
   "id": "8608003f-f79e-454e-84f7-ea2d281899ef",
   "metadata": {},
   "outputs": [
    {
     "data": {
      "text/plain": [
       "['X',\n",
       " 'Y',\n",
       " 'Z',\n",
       " 'intensity',\n",
       " 'return_number',\n",
       " 'number_of_returns',\n",
       " 'synthetic',\n",
       " 'key_point',\n",
       " 'withheld',\n",
       " 'overlap',\n",
       " 'scanner_channel',\n",
       " 'scan_direction_flag',\n",
       " 'edge_of_flight_line',\n",
       " 'classification',\n",
       " 'user_data',\n",
       " 'scan_angle',\n",
       " 'point_source_id',\n",
       " 'gps_time']"
      ]
     },
     "execution_count": 11,
     "metadata": {},
     "output_type": "execute_result"
    }
   ],
   "source": [
    "list(input_lasfile.header.point_format.dimension_names)"
   ]
  },
  {
   "cell_type": "code",
   "execution_count": 12,
   "id": "c8d871ce-51f3-4360-b68e-0dfec83251d9",
   "metadata": {},
   "outputs": [
    {
     "data": {
      "text/plain": [
       "[]"
      ]
     },
     "execution_count": 12,
     "metadata": {},
     "output_type": "execute_result"
    }
   ],
   "source": [
    "list(input_lasfile.header.point_format.extra_dimension_names)"
   ]
  },
  {
   "cell_type": "markdown",
   "id": "67ae3715-ce68-4dc9-b9db-b3b4d339aec6",
   "metadata": {},
   "source": [
    "## Corrdinate conversion \n",
    "\n",
    "We need to convert the coordinates to lat/lon in order to use the geodepy functions"
   ]
  },
  {
   "cell_type": "code",
   "execution_count": 13,
   "id": "b566bad5-0f27-48c0-a133-0667474f6c90",
   "metadata": {},
   "outputs": [],
   "source": [
    "from osgeo import ogr, osr\n",
    "\n",
    "def convert_coordinates(coordinates, input_epsg=7855, output_epsg=4326):\n",
    "    # Create coordinate transformation\n",
    "    input_spatial_ref = osr.SpatialReference()\n",
    "    input_spatial_ref.ImportFromEPSG(input_epsg)\n",
    "\n",
    "    output_spatial_ref = osr.SpatialReference()\n",
    "    output_spatial_ref.ImportFromEPSG(output_epsg)\n",
    "\n",
    "    coord_transform = osr.CoordinateTransformation(input_spatial_ref, output_spatial_ref)\n",
    "    \n",
    "    # Transform point\n",
    "    return coord_transform.TransformPoints(coordinates)"
   ]
  },
  {
   "cell_type": "code",
   "execution_count": 14,
   "id": "53c7dee6-85e5-4d3f-88d9-b2cb3ec6be89",
   "metadata": {},
   "outputs": [],
   "source": [
    "import pandas as pd"
   ]
  },
  {
   "cell_type": "code",
   "execution_count": 15,
   "id": "6611db75-b86e-4571-a88f-478d4c13ef0c",
   "metadata": {},
   "outputs": [],
   "source": [
    "df = pd.DataFrame()"
   ]
  },
  {
   "cell_type": "code",
   "execution_count": 16,
   "id": "49b175b0-b850-4127-9b03-7485cfbacae1",
   "metadata": {},
   "outputs": [
    {
     "name": "stderr",
     "output_type": "stream",
     "text": [
      "/home/romain/.conda/envs/geodepy_env/lib/python3.8/site-packages/osgeo/osr.py:410: FutureWarning: Neither osr.UseExceptions() nor osr.DontUseExceptions() has been explicitly called. In GDAL 4.0, exceptions will be enabled by default.\n",
      "  warnings.warn(\n"
     ]
    }
   ],
   "source": [
    "df[\"X\"] = points.X * points.x.scale + points.x.offset\n",
    "df[\"Y\"] = points.Y * points.y.scale + points.y.offset\n",
    "df[\"GPS_Height\"] = points.Z * points.z.scale + points.z.offset\n",
    "df[[\"Lat\", \"Lon\", \"unknown\"]] = convert_coordinates(list(zip(df.X, df.Y)), input_epsg=epsg_code)\n",
    "df = df.drop(columns=[\"unknown\"])"
   ]
  },
  {
   "cell_type": "code",
   "execution_count": 17,
   "id": "48e1e5e7-5e16-44b4-90cc-dcfb98430fdb",
   "metadata": {},
   "outputs": [
    {
     "data": {
      "text/html": [
       "<div>\n",
       "<style scoped>\n",
       "    .dataframe tbody tr th:only-of-type {\n",
       "        vertical-align: middle;\n",
       "    }\n",
       "\n",
       "    .dataframe tbody tr th {\n",
       "        vertical-align: top;\n",
       "    }\n",
       "\n",
       "    .dataframe thead th {\n",
       "        text-align: right;\n",
       "    }\n",
       "</style>\n",
       "<table border=\"1\" class=\"dataframe\">\n",
       "  <thead>\n",
       "    <tr style=\"text-align: right;\">\n",
       "      <th></th>\n",
       "      <th>X</th>\n",
       "      <th>Y</th>\n",
       "      <th>GPS_Height</th>\n",
       "      <th>Lat</th>\n",
       "      <th>Lon</th>\n",
       "    </tr>\n",
       "  </thead>\n",
       "  <tbody>\n",
       "    <tr>\n",
       "      <th>0</th>\n",
       "      <td>316000.000</td>\n",
       "      <td>7461207.518</td>\n",
       "      <td>257.376</td>\n",
       "      <td>-22.947145</td>\n",
       "      <td>145.205458</td>\n",
       "    </tr>\n",
       "    <tr>\n",
       "      <th>1</th>\n",
       "      <td>316000.000</td>\n",
       "      <td>7461178.164</td>\n",
       "      <td>257.183</td>\n",
       "      <td>-22.947410</td>\n",
       "      <td>145.205455</td>\n",
       "    </tr>\n",
       "    <tr>\n",
       "      <th>2</th>\n",
       "      <td>316000.000</td>\n",
       "      <td>7461057.969</td>\n",
       "      <td>256.524</td>\n",
       "      <td>-22.948496</td>\n",
       "      <td>145.205440</td>\n",
       "    </tr>\n",
       "    <tr>\n",
       "      <th>3</th>\n",
       "      <td>316415.653</td>\n",
       "      <td>7461000.000</td>\n",
       "      <td>256.707</td>\n",
       "      <td>-22.949065</td>\n",
       "      <td>145.209486</td>\n",
       "    </tr>\n",
       "    <tr>\n",
       "      <th>4</th>\n",
       "      <td>316294.803</td>\n",
       "      <td>7461000.000</td>\n",
       "      <td>256.575</td>\n",
       "      <td>-22.949052</td>\n",
       "      <td>145.208308</td>\n",
       "    </tr>\n",
       "  </tbody>\n",
       "</table>\n",
       "</div>"
      ],
      "text/plain": [
       "            X            Y  GPS_Height        Lat         Lon\n",
       "0  316000.000  7461207.518     257.376 -22.947145  145.205458\n",
       "1  316000.000  7461178.164     257.183 -22.947410  145.205455\n",
       "2  316000.000  7461057.969     256.524 -22.948496  145.205440\n",
       "3  316415.653  7461000.000     256.707 -22.949065  145.209486\n",
       "4  316294.803  7461000.000     256.575 -22.949052  145.208308"
      ]
     },
     "execution_count": 17,
     "metadata": {},
     "output_type": "execute_result"
    }
   ],
   "source": [
    "df.head()"
   ]
  },
  {
   "cell_type": "markdown",
   "id": "9844c530-a607-4e43-af5e-1d50c458c91a",
   "metadata": {},
   "source": [
    "## Convert Height\n",
    "\n",
    "The following code is probably not suitable for processing millions of points. We could use a dask cluster or work on improving the Geodepy function. For now, I am just leaving it as a proof of concept and only process the first 5 points."
   ]
  },
  {
   "cell_type": "code",
   "execution_count": 18,
   "id": "cc469970-0658-40bf-84de-620ce47f7f11",
   "metadata": {},
   "outputs": [],
   "source": [
    "npoints = 5\n",
    "df = df.head(npoints) # Select only the first 5 points"
   ]
  },
  {
   "cell_type": "code",
   "execution_count": 19,
   "id": "83ce92c3-0d48-4b59-b428-9c83cb811073",
   "metadata": {},
   "outputs": [
    {
     "data": {
      "text/html": [
       "<div>\n",
       "<style scoped>\n",
       "    .dataframe tbody tr th:only-of-type {\n",
       "        vertical-align: middle;\n",
       "    }\n",
       "\n",
       "    .dataframe tbody tr th {\n",
       "        vertical-align: top;\n",
       "    }\n",
       "\n",
       "    .dataframe thead th {\n",
       "        text-align: right;\n",
       "    }\n",
       "</style>\n",
       "<table border=\"1\" class=\"dataframe\">\n",
       "  <thead>\n",
       "    <tr style=\"text-align: right;\">\n",
       "      <th></th>\n",
       "      <th>X</th>\n",
       "      <th>Y</th>\n",
       "      <th>GPS_Height</th>\n",
       "      <th>Lat</th>\n",
       "      <th>Lon</th>\n",
       "      <th>AVWS_Height</th>\n",
       "      <th>AVWS_Height_stderr</th>\n",
       "    </tr>\n",
       "  </thead>\n",
       "  <tbody>\n",
       "    <tr>\n",
       "      <th>0</th>\n",
       "      <td>316000.000</td>\n",
       "      <td>7461207.518</td>\n",
       "      <td>257.376</td>\n",
       "      <td>-22.947145</td>\n",
       "      <td>145.205458</td>\n",
       "      <td>214.020373</td>\n",
       "      <td>0.055</td>\n",
       "    </tr>\n",
       "    <tr>\n",
       "      <th>1</th>\n",
       "      <td>316000.000</td>\n",
       "      <td>7461178.164</td>\n",
       "      <td>257.183</td>\n",
       "      <td>-22.947410</td>\n",
       "      <td>145.205455</td>\n",
       "      <td>213.828771</td>\n",
       "      <td>0.055</td>\n",
       "    </tr>\n",
       "    <tr>\n",
       "      <th>2</th>\n",
       "      <td>316000.000</td>\n",
       "      <td>7461057.969</td>\n",
       "      <td>256.524</td>\n",
       "      <td>-22.948496</td>\n",
       "      <td>145.205440</td>\n",
       "      <td>213.175485</td>\n",
       "      <td>0.055</td>\n",
       "    </tr>\n",
       "    <tr>\n",
       "      <th>3</th>\n",
       "      <td>316415.653</td>\n",
       "      <td>7461000.000</td>\n",
       "      <td>256.707</td>\n",
       "      <td>-22.949065</td>\n",
       "      <td>145.209486</td>\n",
       "      <td>213.348148</td>\n",
       "      <td>0.055</td>\n",
       "    </tr>\n",
       "    <tr>\n",
       "      <th>4</th>\n",
       "      <td>316294.803</td>\n",
       "      <td>7461000.000</td>\n",
       "      <td>256.575</td>\n",
       "      <td>-22.949052</td>\n",
       "      <td>145.208308</td>\n",
       "      <td>213.219968</td>\n",
       "      <td>0.055</td>\n",
       "    </tr>\n",
       "  </tbody>\n",
       "</table>\n",
       "</div>"
      ],
      "text/plain": [
       "            X            Y  GPS_Height        Lat         Lon  AVWS_Height  \\\n",
       "0  316000.000  7461207.518     257.376 -22.947145  145.205458   214.020373   \n",
       "1  316000.000  7461178.164     257.183 -22.947410  145.205455   213.828771   \n",
       "2  316000.000  7461057.969     256.524 -22.948496  145.205440   213.175485   \n",
       "3  316415.653  7461000.000     256.707 -22.949065  145.209486   213.348148   \n",
       "4  316294.803  7461000.000     256.575 -22.949052  145.208308   213.219968   \n",
       "\n",
       "   AVWS_Height_stderr  \n",
       "0               0.055  \n",
       "1               0.055  \n",
       "2               0.055  \n",
       "3               0.055  \n",
       "4               0.055  "
      ]
     },
     "execution_count": 19,
     "metadata": {},
     "output_type": "execute_result"
    }
   ],
   "source": [
    "from geodepy.height import GPS_to_AVWS, GPS_to_AHD, GPS_to_AUSGeoid09, GPS_to_AUSGeoid98\n",
    "\n",
    "results = df.apply(lambda row: GPS_to_AVWS(row[\"Lat\"], row[\"Lon\"], row[\"GPS_Height\"]), axis=1)\n",
    "df[['AVWS_Height', 'AVWS_Height_stderr']] = pd.DataFrame(results.to_list(), index = df.index).applymap(lambda x: x[0])\n",
    "\n",
    "df.head()"
   ]
  },
  {
   "cell_type": "code",
   "execution_count": 20,
   "id": "ed1109c7-25f4-441a-8e0b-f35ce7d8399e",
   "metadata": {},
   "outputs": [
    {
     "data": {
      "text/plain": [
       "7000000.0"
      ]
     },
     "execution_count": 20,
     "metadata": {},
     "output_type": "execute_result"
    }
   ],
   "source": [
    "points.y.offset"
   ]
  },
  {
   "cell_type": "markdown",
   "id": "a94920db-9129-43f6-81ec-7077a475a003",
   "metadata": {},
   "source": [
    "## Write output to new LAS file"
   ]
  },
  {
   "cell_type": "code",
   "execution_count": 21,
   "id": "477b7802-5822-4ae4-b9c2-9d1b2a05e7dd",
   "metadata": {},
   "outputs": [],
   "source": [
    "import numpy as np\n",
    "from copy import copy\n",
    "\n",
    "# Prepare the header for the output LAS file\n",
    "header = copy(input_lasfile.header)\n",
    "header.point_count = 0\n",
    "\n",
    "# Create las file\n",
    "new_file = laspy.LasData(header)\n",
    "# LAS file only accept coordinates as integer, hence scaling and offset parameters. Here I use the ones from the original file.\n",
    "new_file.X = points.X[:npoints]\n",
    "new_file.Y = points.Y[:npoints]\n",
    "new_file.Z = ((df[\"AVWS_Height\"] - points.z.offset) / points.z.scale ).astype(int)\n",
    "# Write to disk\n",
    "new_file.write('extracted_points.las')"
   ]
  },
  {
   "cell_type": "code",
   "execution_count": 22,
   "id": "4f40e1b5-6513-4061-b5fd-6ebd72b41196",
   "metadata": {},
   "outputs": [
    {
     "data": {
      "text/plain": [
       "0    461207518\n",
       "1    461178163\n",
       "2    461057968\n",
       "3    461000000\n",
       "4    461000000\n",
       "Name: Y, dtype: int64"
      ]
     },
     "execution_count": 22,
     "metadata": {},
     "output_type": "execute_result"
    }
   ],
   "source": [
    "((df[\"Y\"] - points.y.offset) / points.y.scale).astype(int)"
   ]
  },
  {
   "cell_type": "code",
   "execution_count": 23,
   "id": "833e516d-c8bb-49f6-8730-4ed923318478",
   "metadata": {},
   "outputs": [
    {
     "data": {
      "text/plain": [
       "array([461207518, 461178164, 461057969, ..., 461999776, 461999917,\n",
       "       461999933], dtype=int32)"
      ]
     },
     "execution_count": 23,
     "metadata": {},
     "output_type": "execute_result"
    }
   ],
   "source": [
    "points.Y"
   ]
  },
  {
   "cell_type": "code",
   "execution_count": 24,
   "id": "7dabdcb8-14ff-428c-bdcb-62c762f43497",
   "metadata": {},
   "outputs": [
    {
     "data": {
      "text/plain": [
       "(7000000.0, 7000000.0)"
      ]
     },
     "execution_count": 24,
     "metadata": {},
     "output_type": "execute_result"
    }
   ],
   "source": [
    "points.y.offset, new_file.y.offset"
   ]
  },
  {
   "cell_type": "code",
   "execution_count": 25,
   "id": "05898297-4746-47e9-8a66-c61f4c2076bf",
   "metadata": {},
   "outputs": [
    {
     "data": {
      "text/plain": [
       "['X',\n",
       " 'Y',\n",
       " 'Z',\n",
       " 'intensity',\n",
       " 'return_number',\n",
       " 'number_of_returns',\n",
       " 'synthetic',\n",
       " 'key_point',\n",
       " 'withheld',\n",
       " 'overlap',\n",
       " 'scanner_channel',\n",
       " 'scan_direction_flag',\n",
       " 'edge_of_flight_line',\n",
       " 'classification',\n",
       " 'user_data',\n",
       " 'scan_angle',\n",
       " 'point_source_id',\n",
       " 'gps_time']"
      ]
     },
     "execution_count": 25,
     "metadata": {},
     "output_type": "execute_result"
    }
   ],
   "source": [
    "list(new_file.header.point_format.dimension_names)"
   ]
  },
  {
   "cell_type": "markdown",
   "id": "c33000c5-40f0-474c-9a86-0167577a2b42",
   "metadata": {},
   "source": [
    "## Open new LAS file for testing"
   ]
  },
  {
   "cell_type": "code",
   "execution_count": 26,
   "id": "6c098fb6-bdf7-49f6-b445-f398ed1b971e",
   "metadata": {},
   "outputs": [],
   "source": [
    "las_file_path = 'extracted_points.las'"
   ]
  },
  {
   "cell_type": "code",
   "execution_count": 27,
   "id": "0251fdc5-3d29-4ef3-b830-7a01c23bbd19",
   "metadata": {},
   "outputs": [],
   "source": [
    "lasfile = laspy.open(las_file_path)\n",
    "points = lasfile.read()\n",
    "x_coords = points.x\n",
    "y_coords = points.y\n",
    "z_coords = points.z"
   ]
  },
  {
   "cell_type": "code",
   "execution_count": 28,
   "id": "840c8755-64b2-4c42-8a0a-a6754816ccb8",
   "metadata": {},
   "outputs": [
    {
     "data": {
      "text/plain": [
       "(461000000, 461207518)"
      ]
     },
     "execution_count": 28,
     "metadata": {},
     "output_type": "execute_result"
    }
   ],
   "source": [
    "points.Y.min(), points.Y.max()"
   ]
  },
  {
   "cell_type": "code",
   "execution_count": 29,
   "id": "eaa8dcca-daec-473a-97df-bdc7f021379b",
   "metadata": {},
   "outputs": [
    {
     "data": {
      "text/plain": [
       "5"
      ]
     },
     "execution_count": 29,
     "metadata": {},
     "output_type": "execute_result"
    }
   ],
   "source": [
    "len(points.x) # only contains 5 points as expected"
   ]
  },
  {
   "cell_type": "code",
   "execution_count": 30,
   "id": "a0a786df-a967-40d2-98b6-2401cd5374db",
   "metadata": {},
   "outputs": [
    {
     "data": {
      "text/plain": [
       "['X',\n",
       " 'Y',\n",
       " 'Z',\n",
       " 'intensity',\n",
       " 'return_number',\n",
       " 'number_of_returns',\n",
       " 'synthetic',\n",
       " 'key_point',\n",
       " 'withheld',\n",
       " 'overlap',\n",
       " 'scanner_channel',\n",
       " 'scan_direction_flag',\n",
       " 'edge_of_flight_line',\n",
       " 'classification',\n",
       " 'user_data',\n",
       " 'scan_angle',\n",
       " 'point_source_id',\n",
       " 'gps_time']"
      ]
     },
     "execution_count": 30,
     "metadata": {},
     "output_type": "execute_result"
    }
   ],
   "source": [
    "list(lasfile.header.point_format.dimension_names)"
   ]
  },
  {
   "cell_type": "code",
   "execution_count": 31,
   "id": "aa1c37d9-3328-4bd0-8cd3-de02de36148d",
   "metadata": {},
   "outputs": [],
   "source": [
    "one_point = points[0]"
   ]
  },
  {
   "cell_type": "code",
   "execution_count": 32,
   "id": "f128adda-954f-46fa-9d0f-2f499a59ca9e",
   "metadata": {},
   "outputs": [
    {
     "data": {
      "text/plain": [
       "['X',\n",
       " 'Y',\n",
       " 'Z',\n",
       " 'intensity',\n",
       " 'return_number',\n",
       " 'number_of_returns',\n",
       " 'synthetic',\n",
       " 'key_point',\n",
       " 'withheld',\n",
       " 'overlap',\n",
       " 'scanner_channel',\n",
       " 'scan_direction_flag',\n",
       " 'edge_of_flight_line',\n",
       " 'classification',\n",
       " 'user_data',\n",
       " 'scan_angle',\n",
       " 'point_source_id',\n",
       " 'gps_time']"
      ]
     },
     "execution_count": 32,
     "metadata": {},
     "output_type": "execute_result"
    }
   ],
   "source": [
    "list(one_point.header.point_format.dimension_names)"
   ]
  },
  {
   "cell_type": "code",
   "execution_count": 33,
   "id": "ba5fe3a6-73d9-48ae-b7e8-9c02029666d2",
   "metadata": {},
   "outputs": [
    {
     "data": {
      "text/plain": [
       "(7461000.0, 7461207.518)"
      ]
     },
     "execution_count": 33,
     "metadata": {},
     "output_type": "execute_result"
    }
   ],
   "source": [
    "points.y.min(), points.y.max()"
   ]
  },
  {
   "cell_type": "code",
   "execution_count": 34,
   "id": "ced0cc5d-a016-42cd-a9f5-6b012702feda",
   "metadata": {},
   "outputs": [
    {
     "data": {
      "text/plain": [
       "7000000.0"
      ]
     },
     "execution_count": 34,
     "metadata": {},
     "output_type": "execute_result"
    }
   ],
   "source": [
    "points.y.offset"
   ]
  }
 ],
 "metadata": {
  "kernelspec": {
   "display_name": "Python 3 (ipykernel)",
   "language": "python",
   "name": "python3"
  },
  "language_info": {
   "codemirror_mode": {
    "name": "ipython",
    "version": 3
   },
   "file_extension": ".py",
   "mimetype": "text/x-python",
   "name": "python",
   "nbconvert_exporter": "python",
   "pygments_lexer": "ipython3",
   "version": "3.8.19"
  }
 },
 "nbformat": 4,
 "nbformat_minor": 5
}
